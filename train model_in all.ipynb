{
 "cells": [
  {
   "cell_type": "code",
   "execution_count": 33,
   "id": "946ee124",
   "metadata": {},
   "outputs": [],
   "source": [
    "from sklearn.linear_model import LogisticRegression\n",
    "from sklearn import svm\n",
    "from sklearn.ensemble import RandomForestClassifier\n",
    "from sklearn.neighbors import KNeighborsClassifier\n",
    "from sklearn.model_selection import  GridSearchCV\n",
    "\n",
    "import pandas as pd\n",
    "import numpy as np"
   ]
  },
  {
   "cell_type": "code",
   "execution_count": 34,
   "id": "3b6eeabe",
   "metadata": {},
   "outputs": [],
   "source": [
    "df = pd.read_csv(\"E:\\\\research\\\\Spacematch\\\\pilot study\\\\feedback_form20210903.csv\") #import the 34 data-points"
   ]
  },
  {
   "cell_type": "code",
   "execution_count": 35,
   "id": "c2b24b60",
   "metadata": {},
   "outputs": [
    {
     "data": {
      "text/html": [
       "<div>\n",
       "<style scoped>\n",
       "    .dataframe tbody tr th:only-of-type {\n",
       "        vertical-align: middle;\n",
       "    }\n",
       "\n",
       "    .dataframe tbody tr th {\n",
       "        vertical-align: top;\n",
       "    }\n",
       "\n",
       "    .dataframe thead th {\n",
       "        text-align: right;\n",
       "    }\n",
       "</style>\n",
       "<table border=\"1\" class=\"dataframe\">\n",
       "  <thead>\n",
       "    <tr style=\"text-align: right;\">\n",
       "      <th></th>\n",
       "      <th>num</th>\n",
       "      <th>Time</th>\n",
       "      <th>Clothing_Level</th>\n",
       "      <th>indoor_temperature</th>\n",
       "      <th>indoor_humidity</th>\n",
       "      <th>weather</th>\n",
       "      <th>outdoor_temperature</th>\n",
       "      <th>outdoor_humidity</th>\n",
       "      <th>Thermal_comfort</th>\n",
       "    </tr>\n",
       "  </thead>\n",
       "  <tbody>\n",
       "    <tr>\n",
       "      <th>0</th>\n",
       "      <td>1</td>\n",
       "      <td>6:12:00 PM</td>\n",
       "      <td>1</td>\n",
       "      <td>70.47</td>\n",
       "      <td>46.77</td>\n",
       "      <td>sunny</td>\n",
       "      <td>78</td>\n",
       "      <td>45</td>\n",
       "      <td>2</td>\n",
       "    </tr>\n",
       "    <tr>\n",
       "      <th>1</th>\n",
       "      <td>2</td>\n",
       "      <td>6:16:00 PM</td>\n",
       "      <td>1</td>\n",
       "      <td>70.49</td>\n",
       "      <td>46.78</td>\n",
       "      <td>sunny</td>\n",
       "      <td>78</td>\n",
       "      <td>45</td>\n",
       "      <td>3</td>\n",
       "    </tr>\n",
       "    <tr>\n",
       "      <th>2</th>\n",
       "      <td>3</td>\n",
       "      <td>6:18:00 PM</td>\n",
       "      <td>1</td>\n",
       "      <td>70.60</td>\n",
       "      <td>46.65</td>\n",
       "      <td>sunny</td>\n",
       "      <td>78</td>\n",
       "      <td>45</td>\n",
       "      <td>3</td>\n",
       "    </tr>\n",
       "    <tr>\n",
       "      <th>3</th>\n",
       "      <td>4</td>\n",
       "      <td>6:19:00 PM</td>\n",
       "      <td>1</td>\n",
       "      <td>70.64</td>\n",
       "      <td>46.60</td>\n",
       "      <td>sunny</td>\n",
       "      <td>78</td>\n",
       "      <td>45</td>\n",
       "      <td>3</td>\n",
       "    </tr>\n",
       "    <tr>\n",
       "      <th>4</th>\n",
       "      <td>5</td>\n",
       "      <td>6:21:00 PM</td>\n",
       "      <td>1</td>\n",
       "      <td>70.71</td>\n",
       "      <td>46.61</td>\n",
       "      <td>sunny</td>\n",
       "      <td>78</td>\n",
       "      <td>45</td>\n",
       "      <td>3</td>\n",
       "    </tr>\n",
       "  </tbody>\n",
       "</table>\n",
       "</div>"
      ],
      "text/plain": [
       "   num          Time  Clothing_Level  indoor_temperature  indoor_humidity  \\\n",
       "0    1    6:12:00 PM               1               70.47            46.77   \n",
       "1    2    6:16:00 PM               1               70.49            46.78   \n",
       "2    3    6:18:00 PM               1               70.60            46.65   \n",
       "3    4    6:19:00 PM               1               70.64            46.60   \n",
       "4    5    6:21:00 PM               1               70.71            46.61   \n",
       "\n",
       "  weather  outdoor_temperature  outdoor_humidity  Thermal_comfort  \n",
       "0   sunny                   78                45                2  \n",
       "1   sunny                   78                45                3  \n",
       "2   sunny                   78                45                3  \n",
       "3   sunny                   78                45                3  \n",
       "4   sunny                   78                45                3  "
      ]
     },
     "execution_count": 35,
     "metadata": {},
     "output_type": "execute_result"
    }
   ],
   "source": [
    "df.head() "
   ]
  },
  {
   "cell_type": "code",
   "execution_count": 36,
   "id": "210701b4",
   "metadata": {},
   "outputs": [],
   "source": [
    "y = df.Thermal_comfort\n",
    "X = df.drop([\"num\",\"Thermal_comfort\", \"Time\", \"weather\"], axis = 1)  #Get X and y"
   ]
  },
  {
   "cell_type": "code",
   "execution_count": 41,
   "id": "60c64e88",
   "metadata": {},
   "outputs": [],
   "source": [
    "model_and_params = {\n",
    "    'random_forest':{\n",
    "        'model': RandomForestClassifier(),\n",
    "        'params':{\n",
    "            \"n_estimators\"     :range(1,20,1),\n",
    "            \"max_features\"     :range(1,6,1),\n",
    "            \"max_depth\"        :range(1,6,1)\n",
    "        }\n",
    "    },\n",
    "    'knn':{\n",
    "        'model': KNeighborsClassifier(),\n",
    "        'params':{\n",
    "            \"n_neighbors\"     :range(1,10,1),\n",
    "            \"weights\"         :['uniform', 'distance'], \n",
    "            \"p\"               : range(1,3,1)\n",
    "        }\n",
    "    },\n",
    "    'logistic_regression':{\n",
    "        'model': LogisticRegression(),\n",
    "        'params':{\n",
    "            \"solver\"          :['newton-cg', 'lbfgs'],\n",
    "            \"C\"               :[0.1, 0.2],\n",
    "            \"max_iter\"        :[1000]\n",
    "        }\n",
    "    }\n",
    "}"
   ]
  },
  {
   "cell_type": "code",
   "execution_count": 42,
   "id": "dea64260",
   "metadata": {},
   "outputs": [],
   "source": [
    "scores = []\n",
    "for model_name, model_params in model_and_params.items():\n",
    "    clf = GridSearchCV(model_params['model'], model_params['params'], cv=3, return_train_score = False)\n",
    "    clf.fit(X, y)\n",
    "    scores.append({\n",
    "        'model': model_name,\n",
    "        'best_score': clf.best_score_,\n",
    "        'best_params': clf.best_params_\n",
    "    })"
   ]
  },
  {
   "cell_type": "code",
   "execution_count": 47,
   "id": "6668ed34",
   "metadata": {},
   "outputs": [
    {
     "data": {
      "text/html": [
       "<div>\n",
       "<style scoped>\n",
       "    .dataframe tbody tr th:only-of-type {\n",
       "        vertical-align: middle;\n",
       "    }\n",
       "\n",
       "    .dataframe tbody tr th {\n",
       "        vertical-align: top;\n",
       "    }\n",
       "\n",
       "    .dataframe thead th {\n",
       "        text-align: right;\n",
       "    }\n",
       "</style>\n",
       "<table border=\"1\" class=\"dataframe\">\n",
       "  <thead>\n",
       "    <tr style=\"text-align: right;\">\n",
       "      <th></th>\n",
       "      <th>model</th>\n",
       "      <th>best_score</th>\n",
       "      <th>best_params</th>\n",
       "    </tr>\n",
       "  </thead>\n",
       "  <tbody>\n",
       "    <tr>\n",
       "      <th>0</th>\n",
       "      <td>random_forest</td>\n",
       "      <td>0.704545</td>\n",
       "      <td>{'max_depth': 3, 'max_features': 4, 'n_estimat...</td>\n",
       "    </tr>\n",
       "    <tr>\n",
       "      <th>1</th>\n",
       "      <td>knn</td>\n",
       "      <td>0.585859</td>\n",
       "      <td>{'n_neighbors': 6, 'p': 1, 'weights': 'distance'}</td>\n",
       "    </tr>\n",
       "    <tr>\n",
       "      <th>2</th>\n",
       "      <td>logistic_regression</td>\n",
       "      <td>0.439394</td>\n",
       "      <td>{'C': 0.2, 'max_iter': 1000, 'solver': 'newton...</td>\n",
       "    </tr>\n",
       "  </tbody>\n",
       "</table>\n",
       "</div>"
      ],
      "text/plain": [
       "                 model  best_score  \\\n",
       "0        random_forest    0.704545   \n",
       "1                  knn    0.585859   \n",
       "2  logistic_regression    0.439394   \n",
       "\n",
       "                                         best_params  \n",
       "0  {'max_depth': 3, 'max_features': 4, 'n_estimat...  \n",
       "1  {'n_neighbors': 6, 'p': 1, 'weights': 'distance'}  \n",
       "2  {'C': 0.2, 'max_iter': 1000, 'solver': 'newton...  "
      ]
     },
     "execution_count": 47,
     "metadata": {},
     "output_type": "execute_result"
    }
   ],
   "source": [
    "df = pd.DataFrame(scores, columns=['model', 'best_score', 'best_params'])\n",
    "df"
   ]
  },
  {
   "cell_type": "code",
   "execution_count": 48,
   "id": "c72fe739",
   "metadata": {},
   "outputs": [
    {
     "data": {
      "text/plain": [
       "[{'model': 'random_forest',\n",
       "  'best_score': 0.7045454545454546,\n",
       "  'best_params': {'max_depth': 3, 'max_features': 4, 'n_estimators': 9}},\n",
       " {'model': 'knn',\n",
       "  'best_score': 0.5858585858585857,\n",
       "  'best_params': {'n_neighbors': 6, 'p': 1, 'weights': 'distance'}},\n",
       " {'model': 'logistic_regression',\n",
       "  'best_score': 0.43939393939393945,\n",
       "  'best_params': {'C': 0.2, 'max_iter': 1000, 'solver': 'newton-cg'}}]"
      ]
     },
     "execution_count": 48,
     "metadata": {},
     "output_type": "execute_result"
    }
   ],
   "source": [
    "scores"
   ]
  },
  {
   "cell_type": "code",
   "execution_count": null,
   "id": "9b5b43ec",
   "metadata": {},
   "outputs": [],
   "source": []
  }
 ],
 "metadata": {
  "kernelspec": {
   "display_name": "Python 3",
   "language": "python",
   "name": "python3"
  },
  "language_info": {
   "codemirror_mode": {
    "name": "ipython",
    "version": 3
   },
   "file_extension": ".py",
   "mimetype": "text/x-python",
   "name": "python",
   "nbconvert_exporter": "python",
   "pygments_lexer": "ipython3",
   "version": "3.8.8"
  }
 },
 "nbformat": 4,
 "nbformat_minor": 5
}
