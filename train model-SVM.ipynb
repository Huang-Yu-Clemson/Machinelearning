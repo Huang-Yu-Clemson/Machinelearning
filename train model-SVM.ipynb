{
 "cells": [
  {
   "cell_type": "code",
   "execution_count": 33,
   "id": "946ee124",
   "metadata": {},
   "outputs": [],
   "source": [
    "from sklearn.ensemble import RandomForestClassifier\n",
    "from sklearn.tree import DecisionTreeClassifier\n",
    "from sklearn.model_selection import train_test_split, cross_val_score, GridSearchCV, LeaveOneOut, KFold\n",
    "from sklearn.metrics import roc_curve, auc, roc_auc_score, accuracy_score\n",
    "\n",
    "import pandas as pd\n",
    "import numpy as np"
   ]
  },
  {
   "cell_type": "code",
   "execution_count": 35,
   "id": "3b6eeabe",
   "metadata": {},
   "outputs": [],
   "source": [
    "df = pd.read_csv(\"E:\\\\research\\\\Spacematch\\\\pilot study\\\\feedback_form20210903.csv\") #import the 34 data-points"
   ]
  },
  {
   "cell_type": "code",
   "execution_count": 36,
   "id": "c2b24b60",
   "metadata": {},
   "outputs": [
    {
     "data": {
      "text/html": [
       "<div>\n",
       "<style scoped>\n",
       "    .dataframe tbody tr th:only-of-type {\n",
       "        vertical-align: middle;\n",
       "    }\n",
       "\n",
       "    .dataframe tbody tr th {\n",
       "        vertical-align: top;\n",
       "    }\n",
       "\n",
       "    .dataframe thead th {\n",
       "        text-align: right;\n",
       "    }\n",
       "</style>\n",
       "<table border=\"1\" class=\"dataframe\">\n",
       "  <thead>\n",
       "    <tr style=\"text-align: right;\">\n",
       "      <th></th>\n",
       "      <th>num</th>\n",
       "      <th>Time</th>\n",
       "      <th>Clothing_Level</th>\n",
       "      <th>indoor_temperature</th>\n",
       "      <th>indoor_humidity</th>\n",
       "      <th>weather</th>\n",
       "      <th>outdoor_temperature</th>\n",
       "      <th>outdoor_humidity</th>\n",
       "      <th>Thermal_comfort</th>\n",
       "    </tr>\n",
       "  </thead>\n",
       "  <tbody>\n",
       "    <tr>\n",
       "      <th>0</th>\n",
       "      <td>1</td>\n",
       "      <td>6:12:00 PM</td>\n",
       "      <td>1</td>\n",
       "      <td>70.47</td>\n",
       "      <td>46.77</td>\n",
       "      <td>sunny</td>\n",
       "      <td>78</td>\n",
       "      <td>45</td>\n",
       "      <td>2</td>\n",
       "    </tr>\n",
       "    <tr>\n",
       "      <th>1</th>\n",
       "      <td>2</td>\n",
       "      <td>6:16:00 PM</td>\n",
       "      <td>1</td>\n",
       "      <td>70.49</td>\n",
       "      <td>46.78</td>\n",
       "      <td>sunny</td>\n",
       "      <td>78</td>\n",
       "      <td>45</td>\n",
       "      <td>3</td>\n",
       "    </tr>\n",
       "    <tr>\n",
       "      <th>2</th>\n",
       "      <td>3</td>\n",
       "      <td>6:18:00 PM</td>\n",
       "      <td>1</td>\n",
       "      <td>70.60</td>\n",
       "      <td>46.65</td>\n",
       "      <td>sunny</td>\n",
       "      <td>78</td>\n",
       "      <td>45</td>\n",
       "      <td>3</td>\n",
       "    </tr>\n",
       "    <tr>\n",
       "      <th>3</th>\n",
       "      <td>4</td>\n",
       "      <td>6:19:00 PM</td>\n",
       "      <td>1</td>\n",
       "      <td>70.64</td>\n",
       "      <td>46.60</td>\n",
       "      <td>sunny</td>\n",
       "      <td>78</td>\n",
       "      <td>45</td>\n",
       "      <td>3</td>\n",
       "    </tr>\n",
       "    <tr>\n",
       "      <th>4</th>\n",
       "      <td>5</td>\n",
       "      <td>6:21:00 PM</td>\n",
       "      <td>1</td>\n",
       "      <td>70.71</td>\n",
       "      <td>46.61</td>\n",
       "      <td>sunny</td>\n",
       "      <td>78</td>\n",
       "      <td>45</td>\n",
       "      <td>3</td>\n",
       "    </tr>\n",
       "  </tbody>\n",
       "</table>\n",
       "</div>"
      ],
      "text/plain": [
       "   num          Time  Clothing_Level  indoor_temperature  indoor_humidity  \\\n",
       "0    1    6:12:00 PM               1               70.47            46.77   \n",
       "1    2    6:16:00 PM               1               70.49            46.78   \n",
       "2    3    6:18:00 PM               1               70.60            46.65   \n",
       "3    4    6:19:00 PM               1               70.64            46.60   \n",
       "4    5    6:21:00 PM               1               70.71            46.61   \n",
       "\n",
       "  weather  outdoor_temperature  outdoor_humidity  Thermal_comfort  \n",
       "0   sunny                   78                45                2  \n",
       "1   sunny                   78                45                3  \n",
       "2   sunny                   78                45                3  \n",
       "3   sunny                   78                45                3  \n",
       "4   sunny                   78                45                3  "
      ]
     },
     "execution_count": 36,
     "metadata": {},
     "output_type": "execute_result"
    }
   ],
   "source": [
    "df.head() "
   ]
  },
  {
   "cell_type": "code",
   "execution_count": 37,
   "id": "210701b4",
   "metadata": {},
   "outputs": [],
   "source": [
    "y = df.Thermal_comfort\n",
    "X = df.drop([\"num\",\"Thermal_comfort\", \"Time\", \"weather\"], axis = 1)  #Get X and y"
   ]
  },
  {
   "cell_type": "code",
   "execution_count": 38,
   "id": "482f7b97",
   "metadata": {},
   "outputs": [],
   "source": [
    "# \"min_samples_leaf\":range(1,10,1), \n",
    "#\"min_samples_split\":range(2,10,1),   \n",
    "#\"criterion\"        :[\"gini\", \"entropy\"]"
   ]
  },
  {
   "cell_type": "code",
   "execution_count": 22,
   "id": "60c64e88",
   "metadata": {},
   "outputs": [
    {
     "data": {
      "text/plain": [
       "GridSearchCV(cv=2,\n",
       "             estimator=RandomForestClassifier(class_weight='balanced',\n",
       "                                              random_state=10),\n",
       "             param_grid={'max_depth': range(1, 6), 'max_features': range(1, 6),\n",
       "                         'n_estimators': range(1, 50)})"
      ]
     },
     "execution_count": 22,
     "metadata": {},
     "output_type": "execute_result"
    }
   ],
   "source": [
    "param_test = {\"n_estimators\"     :range(1,50,1),\n",
    "              \"max_features\"     :range(1,6,1), \n",
    "              \"max_depth\"        :range(1,6,1),\n",
    "              } # Optimize the parameters\n",
    "gsearch = GridSearchCV(estimator = RandomForestClassifier(random_state = 10, class_weight = \"balanced\", \n",
    "                    min_samples_split = 2, min_samples_leaf = 1), \n",
    "            param_grid = param_test, cv = 2)\n",
    "gsearch.fit(X, y)"
   ]
  },
  {
   "cell_type": "code",
   "execution_count": 39,
   "id": "19bcdea9",
   "metadata": {},
   "outputs": [
    {
     "name": "stdout",
     "output_type": "stream",
     "text": [
      "(6, 3, 5, 0.7647058823529411)\n"
     ]
    }
   ],
   "source": [
    "estimator     = gsearch.best_params_[\"n_estimators\"]\n",
    "feature       = gsearch.best_params_[\"max_features\"]\n",
    "depth         = gsearch.best_params_[\"max_depth\"]\n",
    "para = (estimator, feature, depth, gsearch.best_score_)\n",
    "print(para)"
   ]
  },
  {
   "cell_type": "code",
   "execution_count": 46,
   "id": "459e39ac",
   "metadata": {},
   "outputs": [
    {
     "name": "stdout",
     "output_type": "stream",
     "text": [
      "[2, 3, 3, 3, 3, 2, 2, 4, 4, 4, 3, 3, 2, 2, 1, 1, 2, 1, 2, 1, 1, 2, 2, 3, 3, 2, 3, 3, 3, 4, 5, 5, 5, 5]\n",
      "[3, 2, 3, 3, 3, 3, 3, 3, 4, 4, 4, 2, 2, 1, 1, 1, 1, 2, 1, 2, 2, 2, 2, 2, 2, 3, 3, 3, 3, 5, 5, 5, 5, 5]\n",
      "accuracy is: 0.5\n"
     ]
    }
   ],
   "source": [
    "loo = LeaveOneOut() # test the accuracy with leaveoneout\n",
    "y_true = []\n",
    "y_pred = []\n",
    "for train_index, test_index in loo.split(X): # Split in X\n",
    "    X_train, X_test = X.values[train_index], X.values[test_index]\n",
    "    y_train, y_test = y.values[train_index], y.values[test_index]\n",
    "    rfc = RandomForestClassifier(n_estimators = estimator, \n",
    "                                max_features = feature, \n",
    "                                min_samples_split = 2, \n",
    "                                max_depth = depth,\n",
    "                                min_samples_leaf = 1,\n",
    "                                criterion = \"gini\",\n",
    "                                random_state = 10)\n",
    "    rfc = rfc.fit(X_train, y_train) # train model\n",
    "    predict_y = rfc.predict(X_test)\n",
    "    y_true.append(y_test[0])\n",
    "    y_pred.append(predict_y[0])\n",
    "print(y_true)\n",
    "print(y_pred)\n",
    "accuracy = accuracy_score(y_true, y_pred)\n",
    "print(\"accuracy is:\", accuracy)"
   ]
  },
  {
   "cell_type": "code",
   "execution_count": 48,
   "id": "ae5ea958",
   "metadata": {},
   "outputs": [
    {
     "name": "stdout",
     "output_type": "stream",
     "text": [
      "0.575\n"
     ]
    }
   ],
   "source": [
    "kf = KFold(n_splits = 10, random_state = 10, shuffle = True) # test the accuracy with Kfold\n",
    "accuracy = []\n",
    "for train_index, test_index in kf.split(X): # Split in X\n",
    "    X_train, X_test = X.values[train_index], X.values[test_index]\n",
    "    y_train, y_test = y.values[train_index], y.values[test_index]\n",
    "    rfc = RandomForestClassifier(n_estimators = estimator, \n",
    "                                max_features = feature, \n",
    "                                min_samples_split = 2, \n",
    "                                max_depth = depth,\n",
    "                                min_samples_leaf = 1,\n",
    "                                criterion = \"gini\",\n",
    "                                random_state = 10)\n",
    "    rfc = rfc.fit(X_train, y_train)\n",
    "    predict_y = rfc.predict(X_test)\n",
    "    accuracy.append(accuracy_score(y_test, predict_y))\n",
    "print(np.mean(accuracy))"
   ]
  },
  {
   "cell_type": "code",
   "execution_count": 49,
   "id": "ea6d1b02",
   "metadata": {},
   "outputs": [
    {
     "data": {
      "text/html": [
       "<div>\n",
       "<style scoped>\n",
       "    .dataframe tbody tr th:only-of-type {\n",
       "        vertical-align: middle;\n",
       "    }\n",
       "\n",
       "    .dataframe tbody tr th {\n",
       "        vertical-align: top;\n",
       "    }\n",
       "\n",
       "    .dataframe thead th {\n",
       "        text-align: right;\n",
       "    }\n",
       "</style>\n",
       "<table border=\"1\" class=\"dataframe\">\n",
       "  <thead>\n",
       "    <tr style=\"text-align: right;\">\n",
       "      <th></th>\n",
       "      <th>Clothing_Level</th>\n",
       "      <th>indoor_temperature</th>\n",
       "      <th>indoor_humidity</th>\n",
       "      <th>outdoor_temperature</th>\n",
       "      <th>outdoor_humidity</th>\n",
       "    </tr>\n",
       "  </thead>\n",
       "  <tbody>\n",
       "    <tr>\n",
       "      <th>0</th>\n",
       "      <td>1</td>\n",
       "      <td>69.03</td>\n",
       "      <td>49.55</td>\n",
       "      <td>88</td>\n",
       "      <td>55</td>\n",
       "    </tr>\n",
       "    <tr>\n",
       "      <th>1</th>\n",
       "      <td>1</td>\n",
       "      <td>70.08</td>\n",
       "      <td>48.02</td>\n",
       "      <td>88</td>\n",
       "      <td>55</td>\n",
       "    </tr>\n",
       "    <tr>\n",
       "      <th>2</th>\n",
       "      <td>1</td>\n",
       "      <td>73.71</td>\n",
       "      <td>46.40</td>\n",
       "      <td>88</td>\n",
       "      <td>55</td>\n",
       "    </tr>\n",
       "    <tr>\n",
       "      <th>3</th>\n",
       "      <td>1</td>\n",
       "      <td>76.60</td>\n",
       "      <td>43.16</td>\n",
       "      <td>88</td>\n",
       "      <td>55</td>\n",
       "    </tr>\n",
       "  </tbody>\n",
       "</table>\n",
       "</div>"
      ],
      "text/plain": [
       "   Clothing_Level  indoor_temperature  indoor_humidity  outdoor_temperature  \\\n",
       "0               1               69.03            49.55                   88   \n",
       "1               1               70.08            48.02                   88   \n",
       "2               1               73.71            46.40                   88   \n",
       "3               1               76.60            43.16                   88   \n",
       "\n",
       "   outdoor_humidity  \n",
       "0                55  \n",
       "1                55  \n",
       "2                55  \n",
       "3                55  "
      ]
     },
     "execution_count": 49,
     "metadata": {},
     "output_type": "execute_result"
    }
   ],
   "source": [
    "# import the realtime room data\n",
    "rt_data = pd.read_csv(\"E:\\\\research\\\\Spacematch\\\\pilot study\\\\real_time_room_data.csv\")\n",
    "rt_data = rt_data.drop([\"num\", \"Time\", \"weather\"], axis = 1)\n",
    "rt_data.head()"
   ]
  },
  {
   "cell_type": "code",
   "execution_count": 52,
   "id": "aa112b67",
   "metadata": {},
   "outputs": [
    {
     "name": "stdout",
     "output_type": "stream",
     "text": [
      "probability : \n",
      " [[0.77777778 0.05555556 0.         0.16666667 0.        ]\n",
      " [0.         0.66666667 0.         0.16666667 0.16666667]\n",
      " [0.         0.         0.         0.16666667 0.83333333]\n",
      " [0.         0.         0.         0.16666667 0.83333333]]\n",
      "feature importance: [0.         0.69069871 0.16222597 0.         0.14707532]\n",
      "feature name: ['Clothing_Level', 'indoor_temperature', 'indoor_humidity', 'outdoor_temperature', 'outdoor_humidity']\n",
      "the probability of not comfort in ROOM 1: 0.7777777777777777\n",
      "the probability of a bit comfort in ROOM 1: 0.2222222222222222\n",
      "the probability of very comfort in ROOM 1: 0.0\n",
      "the probability of not comfort in ROOM 2: 0.16666666666666666\n",
      "the probability of a bit comfort in ROOM 2: 0.8333333333333333\n",
      "the probability of very comfort in ROOM 2: 0.0\n",
      "the probability of not comfort in ROOM 3: 0.8333333333333334\n",
      "the probability of a bit comfort in ROOM 3: 0.16666666666666666\n",
      "the probability of very comfort in ROOM 3: 0.0\n",
      "the probability of not comfort in ROOM 4: 0.8333333333333334\n",
      "the probability of a bit comfort in ROOM 4: 0.16666666666666666\n",
      "the probability of very comfort in ROOM 4: 0.0\n"
     ]
    }
   ],
   "source": [
    "rfc = RandomForestClassifier(n_estimators = estimator,  #predict the probability of different feels in different rooms\n",
    "                                max_features = feature, \n",
    "                                min_samples_split = 2, \n",
    "                                max_depth = depth,\n",
    "                                min_samples_leaf = 1,\n",
    "                                criterion = \"gini\",\n",
    "                                random_state = 10)\n",
    "rfc = rfc.fit(X, y)\n",
    "rt_prepro = rfc.predict_proba(rt_data)\n",
    "print(\"probability : \\n\", rt_prepro)\n",
    "print(\"feature importance:\", rfc.feature_importances_)\n",
    "print(\"feature name:\", rt_data.columns.values.tolist())\n",
    "\n",
    "room1_comfort1 = rt_prepro[0][0] + rt_prepro[0][4]\n",
    "room1_comfort2 = rt_prepro[0][1] + rt_prepro[0][3] \n",
    "room1_comfort3 = rt_prepro[0][2]\n",
    "\n",
    "room2_comfort1 = rt_prepro[1][0] + rt_prepro[1][4]\n",
    "room2_comfort2 = rt_prepro[1][1] + rt_prepro[1][3]\n",
    "room2_comfort3 = rt_prepro[1][2]\n",
    "\n",
    "room3_comfort1 = rt_prepro[2][0] + rt_prepro[2][4]\n",
    "room3_comfort2 = rt_prepro[2][1] + rt_prepro[2][3]\n",
    "room3_comfort3 = rt_prepro[2][2] \n",
    "\n",
    "room4_comfort1 = rt_prepro[3][0] + rt_prepro[3][4]\n",
    "room4_comfort2 = rt_prepro[3][1] + rt_prepro[3][3]\n",
    "room4_comfort3 = rt_prepro[3][2]\n",
    "\n",
    "print(\"the probability of not comfort in ROOM 1:\", room1_comfort1)\n",
    "print(\"the probability of a bit comfort in ROOM 1:\", room1_comfort2)\n",
    "print(\"the probability of very comfort in ROOM 1:\", room1_comfort3)\n",
    "print(\"the probability of not comfort in ROOM 2:\", room2_comfort1)\n",
    "print(\"the probability of a bit comfort in ROOM 2:\", room2_comfort2)\n",
    "print(\"the probability of very comfort in ROOM 2:\", room2_comfort3)\n",
    "print(\"the probability of not comfort in ROOM 3:\", room3_comfort1)\n",
    "print(\"the probability of a bit comfort in ROOM 3:\", room3_comfort2)\n",
    "print(\"the probability of very comfort in ROOM 3:\", room3_comfort3)\n",
    "print(\"the probability of not comfort in ROOM 4:\", room4_comfort1)\n",
    "print(\"the probability of a bit comfort in ROOM 4:\", room4_comfort2)\n",
    "print(\"the probability of very comfort in ROOM 4:\", room4_comfort3)"
   ]
  },
  {
   "cell_type": "code",
   "execution_count": null,
   "id": "83d74bc9",
   "metadata": {},
   "outputs": [],
   "source": []
  }
 ],
 "metadata": {
  "kernelspec": {
   "display_name": "Python 3",
   "language": "python",
   "name": "python3"
  },
  "language_info": {
   "codemirror_mode": {
    "name": "ipython",
    "version": 3
   },
   "file_extension": ".py",
   "mimetype": "text/x-python",
   "name": "python",
   "nbconvert_exporter": "python",
   "pygments_lexer": "ipython3",
   "version": "3.8.8"
  }
 },
 "nbformat": 4,
 "nbformat_minor": 5
}
