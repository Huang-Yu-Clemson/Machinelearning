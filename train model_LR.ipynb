{
 "cells": [
  {
   "cell_type": "code",
   "execution_count": 1,
   "id": "946ee124",
   "metadata": {},
   "outputs": [],
   "source": [
    "from sklearn.linear_model import LogisticRegression\n",
    "from sklearn import svm\n",
    "from sklearn.ensemble import RandomForestClassifier\n",
    "from sklearn.neighbors import KNeighborsClassifier\n",
    "from sklearn.model_selection import  GridSearchCV\n",
    "\n",
    "import pandas as pd\n",
    "import numpy as np"
   ]
  },
  {
   "cell_type": "code",
   "execution_count": 2,
   "id": "3b6eeabe",
   "metadata": {},
   "outputs": [],
   "source": [
    "df = pd.read_csv(\"E:\\\\research\\\\Spacematch\\\\pilot study\\\\feedback_form20210903.csv\") #import the 34 data-points"
   ]
  },
  {
   "cell_type": "code",
   "execution_count": 3,
   "id": "c2b24b60",
   "metadata": {},
   "outputs": [
    {
     "data": {
      "text/html": [
       "<div>\n",
       "<style scoped>\n",
       "    .dataframe tbody tr th:only-of-type {\n",
       "        vertical-align: middle;\n",
       "    }\n",
       "\n",
       "    .dataframe tbody tr th {\n",
       "        vertical-align: top;\n",
       "    }\n",
       "\n",
       "    .dataframe thead th {\n",
       "        text-align: right;\n",
       "    }\n",
       "</style>\n",
       "<table border=\"1\" class=\"dataframe\">\n",
       "  <thead>\n",
       "    <tr style=\"text-align: right;\">\n",
       "      <th></th>\n",
       "      <th>num</th>\n",
       "      <th>Time</th>\n",
       "      <th>Clothing_Level</th>\n",
       "      <th>indoor_temperature</th>\n",
       "      <th>indoor_humidity</th>\n",
       "      <th>weather</th>\n",
       "      <th>outdoor_temperature</th>\n",
       "      <th>outdoor_humidity</th>\n",
       "      <th>Thermal_comfort</th>\n",
       "    </tr>\n",
       "  </thead>\n",
       "  <tbody>\n",
       "    <tr>\n",
       "      <th>0</th>\n",
       "      <td>1</td>\n",
       "      <td>6:12:00 PM</td>\n",
       "      <td>1</td>\n",
       "      <td>70.47</td>\n",
       "      <td>46.77</td>\n",
       "      <td>sunny</td>\n",
       "      <td>78</td>\n",
       "      <td>45</td>\n",
       "      <td>2</td>\n",
       "    </tr>\n",
       "    <tr>\n",
       "      <th>1</th>\n",
       "      <td>2</td>\n",
       "      <td>6:16:00 PM</td>\n",
       "      <td>1</td>\n",
       "      <td>70.49</td>\n",
       "      <td>46.78</td>\n",
       "      <td>sunny</td>\n",
       "      <td>78</td>\n",
       "      <td>45</td>\n",
       "      <td>3</td>\n",
       "    </tr>\n",
       "    <tr>\n",
       "      <th>2</th>\n",
       "      <td>3</td>\n",
       "      <td>6:18:00 PM</td>\n",
       "      <td>1</td>\n",
       "      <td>70.60</td>\n",
       "      <td>46.65</td>\n",
       "      <td>sunny</td>\n",
       "      <td>78</td>\n",
       "      <td>45</td>\n",
       "      <td>3</td>\n",
       "    </tr>\n",
       "    <tr>\n",
       "      <th>3</th>\n",
       "      <td>4</td>\n",
       "      <td>6:19:00 PM</td>\n",
       "      <td>1</td>\n",
       "      <td>70.64</td>\n",
       "      <td>46.60</td>\n",
       "      <td>sunny</td>\n",
       "      <td>78</td>\n",
       "      <td>45</td>\n",
       "      <td>3</td>\n",
       "    </tr>\n",
       "    <tr>\n",
       "      <th>4</th>\n",
       "      <td>5</td>\n",
       "      <td>6:21:00 PM</td>\n",
       "      <td>1</td>\n",
       "      <td>70.71</td>\n",
       "      <td>46.61</td>\n",
       "      <td>sunny</td>\n",
       "      <td>78</td>\n",
       "      <td>45</td>\n",
       "      <td>3</td>\n",
       "    </tr>\n",
       "  </tbody>\n",
       "</table>\n",
       "</div>"
      ],
      "text/plain": [
       "   num          Time  Clothing_Level  indoor_temperature  indoor_humidity  \\\n",
       "0    1    6:12:00 PM               1               70.47            46.77   \n",
       "1    2    6:16:00 PM               1               70.49            46.78   \n",
       "2    3    6:18:00 PM               1               70.60            46.65   \n",
       "3    4    6:19:00 PM               1               70.64            46.60   \n",
       "4    5    6:21:00 PM               1               70.71            46.61   \n",
       "\n",
       "  weather  outdoor_temperature  outdoor_humidity  Thermal_comfort  \n",
       "0   sunny                   78                45                2  \n",
       "1   sunny                   78                45                3  \n",
       "2   sunny                   78                45                3  \n",
       "3   sunny                   78                45                3  \n",
       "4   sunny                   78                45                3  "
      ]
     },
     "execution_count": 3,
     "metadata": {},
     "output_type": "execute_result"
    }
   ],
   "source": [
    "df.head() "
   ]
  },
  {
   "cell_type": "code",
   "execution_count": 4,
   "id": "210701b4",
   "metadata": {},
   "outputs": [],
   "source": [
    "y = df.Thermal_comfort\n",
    "X = df.drop([\"num\",\"Thermal_comfort\", \"Time\", \"weather\"], axis = 1)  #Get X and y"
   ]
  },
  {
   "cell_type": "code",
   "execution_count": 33,
   "id": "482f7b97",
   "metadata": {},
   "outputs": [
    {
     "data": {
      "text/plain": [
       "GridSearchCV(cv=3, estimator=LogisticRegression(max_iter=1000),\n",
       "             param_grid={'C': [0.1, 0.2], 'solver': ['newton-cg', 'lbfgs']})"
      ]
     },
     "execution_count": 33,
     "metadata": {},
     "output_type": "execute_result"
    }
   ],
   "source": [
    "param_test = {\"solver\"          :['newton-cg', 'lbfgs'],\n",
    "              \"C\"               :[0.1, 0.2]\n",
    "              } # Optimize the parameters\n",
    "gsearch = GridSearchCV(estimator = LogisticRegression(max_iter = 1000),\n",
    "            param_grid = param_test, cv = 3)\n",
    "gsearch.fit(X, y)"
   ]
  },
  {
   "cell_type": "code",
   "execution_count": 26,
   "id": "dea64260",
   "metadata": {},
   "outputs": [
    {
     "name": "stderr",
     "output_type": "stream",
     "text": [
      "E:\\software\\anaconda\\lib\\site-packages\\sklearn\\linear_model\\_sag.py:328: ConvergenceWarning: The max_iter was reached which means the coef_ did not converge\n",
      "  warnings.warn(\"The max_iter was reached which means \"\n"
     ]
    },
    {
     "data": {
      "text/plain": [
       "{'C': 1.0,\n",
       " 'class_weight': None,\n",
       " 'dual': False,\n",
       " 'fit_intercept': True,\n",
       " 'intercept_scaling': 1,\n",
       " 'l1_ratio': None,\n",
       " 'max_iter': 1000,\n",
       " 'multi_class': 'auto',\n",
       " 'n_jobs': None,\n",
       " 'penalty': 'l2',\n",
       " 'random_state': None,\n",
       " 'solver': 'saga',\n",
       " 'tol': 0.0001,\n",
       " 'verbose': 0,\n",
       " 'warm_start': False}"
      ]
     },
     "execution_count": 26,
     "metadata": {},
     "output_type": "execute_result"
    }
   ],
   "source": [
    "model = LogisticRegression(max_iter=1000, solver = 'saga')\n",
    "model.fit(X, y)\n",
    "model.get_params()"
   ]
  },
  {
   "cell_type": "code",
   "execution_count": null,
   "id": "6668ed34",
   "metadata": {},
   "outputs": [],
   "source": []
  }
 ],
 "metadata": {
  "kernelspec": {
   "display_name": "Python 3",
   "language": "python",
   "name": "python3"
  },
  "language_info": {
   "codemirror_mode": {
    "name": "ipython",
    "version": 3
   },
   "file_extension": ".py",
   "mimetype": "text/x-python",
   "name": "python",
   "nbconvert_exporter": "python",
   "pygments_lexer": "ipython3",
   "version": "3.8.8"
  }
 },
 "nbformat": 4,
 "nbformat_minor": 5
}
