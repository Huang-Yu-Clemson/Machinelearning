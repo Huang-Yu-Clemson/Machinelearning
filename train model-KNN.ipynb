{
 "cells": [
  {
   "cell_type": "code",
   "execution_count": 16,
   "id": "946ee124",
   "metadata": {},
   "outputs": [],
   "source": [
    "from sklearn.neighbors import KNeighborsClassifier\n",
    "from sklearn.model_selection import GridSearchCV, LeaveOneOut, KFold\n",
    "from sklearn.metrics import accuracy_score\n",
    "\n",
    "import pandas as pd\n",
    "import numpy as np"
   ]
  },
  {
   "cell_type": "code",
   "execution_count": 17,
   "id": "3b6eeabe",
   "metadata": {},
   "outputs": [],
   "source": [
    "df = pd.read_csv(\"E:\\\\research\\\\Spacematch\\\\pilot study\\\\feedback_form20210903.csv\") #import the 34 data-points"
   ]
  },
  {
   "cell_type": "markdown",
   "id": "21b8d6e6",
   "metadata": {},
   "source": [
    "what parameters should be included in the grid search algorithm?\n",
    "How to compare different algorithms?\n",
    "What we use to represent accuracy? confusion matrix or accuracy"
   ]
  },
  {
   "cell_type": "code",
   "execution_count": 18,
   "id": "6c51a3a5",
   "metadata": {},
   "outputs": [
    {
     "data": {
      "text/html": [
       "<div>\n",
       "<style scoped>\n",
       "    .dataframe tbody tr th:only-of-type {\n",
       "        vertical-align: middle;\n",
       "    }\n",
       "\n",
       "    .dataframe tbody tr th {\n",
       "        vertical-align: top;\n",
       "    }\n",
       "\n",
       "    .dataframe thead th {\n",
       "        text-align: right;\n",
       "    }\n",
       "</style>\n",
       "<table border=\"1\" class=\"dataframe\">\n",
       "  <thead>\n",
       "    <tr style=\"text-align: right;\">\n",
       "      <th></th>\n",
       "      <th>num</th>\n",
       "      <th>Time</th>\n",
       "      <th>Clothing_Level</th>\n",
       "      <th>indoor_temperature</th>\n",
       "      <th>indoor_humidity</th>\n",
       "      <th>weather</th>\n",
       "      <th>outdoor_temperature</th>\n",
       "      <th>outdoor_humidity</th>\n",
       "      <th>Thermal_comfort</th>\n",
       "    </tr>\n",
       "  </thead>\n",
       "  <tbody>\n",
       "    <tr>\n",
       "      <th>0</th>\n",
       "      <td>1</td>\n",
       "      <td>6:12:00 PM</td>\n",
       "      <td>1</td>\n",
       "      <td>70.47</td>\n",
       "      <td>46.77</td>\n",
       "      <td>sunny</td>\n",
       "      <td>78</td>\n",
       "      <td>45</td>\n",
       "      <td>2</td>\n",
       "    </tr>\n",
       "    <tr>\n",
       "      <th>1</th>\n",
       "      <td>2</td>\n",
       "      <td>6:16:00 PM</td>\n",
       "      <td>1</td>\n",
       "      <td>70.49</td>\n",
       "      <td>46.78</td>\n",
       "      <td>sunny</td>\n",
       "      <td>78</td>\n",
       "      <td>45</td>\n",
       "      <td>3</td>\n",
       "    </tr>\n",
       "    <tr>\n",
       "      <th>2</th>\n",
       "      <td>3</td>\n",
       "      <td>6:18:00 PM</td>\n",
       "      <td>1</td>\n",
       "      <td>70.60</td>\n",
       "      <td>46.65</td>\n",
       "      <td>sunny</td>\n",
       "      <td>78</td>\n",
       "      <td>45</td>\n",
       "      <td>3</td>\n",
       "    </tr>\n",
       "    <tr>\n",
       "      <th>3</th>\n",
       "      <td>4</td>\n",
       "      <td>6:19:00 PM</td>\n",
       "      <td>1</td>\n",
       "      <td>70.64</td>\n",
       "      <td>46.60</td>\n",
       "      <td>sunny</td>\n",
       "      <td>78</td>\n",
       "      <td>45</td>\n",
       "      <td>3</td>\n",
       "    </tr>\n",
       "    <tr>\n",
       "      <th>4</th>\n",
       "      <td>5</td>\n",
       "      <td>6:21:00 PM</td>\n",
       "      <td>1</td>\n",
       "      <td>70.71</td>\n",
       "      <td>46.61</td>\n",
       "      <td>sunny</td>\n",
       "      <td>78</td>\n",
       "      <td>45</td>\n",
       "      <td>3</td>\n",
       "    </tr>\n",
       "  </tbody>\n",
       "</table>\n",
       "</div>"
      ],
      "text/plain": [
       "   num          Time  Clothing_Level  indoor_temperature  indoor_humidity  \\\n",
       "0    1    6:12:00 PM               1               70.47            46.77   \n",
       "1    2    6:16:00 PM               1               70.49            46.78   \n",
       "2    3    6:18:00 PM               1               70.60            46.65   \n",
       "3    4    6:19:00 PM               1               70.64            46.60   \n",
       "4    5    6:21:00 PM               1               70.71            46.61   \n",
       "\n",
       "  weather  outdoor_temperature  outdoor_humidity  Thermal_comfort  \n",
       "0   sunny                   78                45                2  \n",
       "1   sunny                   78                45                3  \n",
       "2   sunny                   78                45                3  \n",
       "3   sunny                   78                45                3  \n",
       "4   sunny                   78                45                3  "
      ]
     },
     "execution_count": 18,
     "metadata": {},
     "output_type": "execute_result"
    }
   ],
   "source": [
    "df.head()"
   ]
  },
  {
   "cell_type": "code",
   "execution_count": 19,
   "id": "210701b4",
   "metadata": {},
   "outputs": [],
   "source": [
    "y = df.Thermal_comfort\n",
    "X = df.drop([\"num\",\"Thermal_comfort\", \"Time\", \"weather\"], axis = 1)  #Get X and y"
   ]
  },
  {
   "cell_type": "code",
   "execution_count": 20,
   "id": "482f7b97",
   "metadata": {},
   "outputs": [],
   "source": [
    "# \"min_samples_leaf\":range(1,10,1), \n",
    "#\"min_samples_split\":range(2,10,1),   \n",
    "#\"criterion\"        :[\"gini\", \"entropy\"]"
   ]
  },
  {
   "cell_type": "code",
   "execution_count": 21,
   "id": "60c64e88",
   "metadata": {},
   "outputs": [
    {
     "data": {
      "text/plain": [
       "GridSearchCV(cv=2, estimator=KNeighborsClassifier(),\n",
       "             param_grid={'n_neighbors': range(1, 10), 'p': range(1, 3),\n",
       "                         'weights': ['uniform', 'distance']})"
      ]
     },
     "execution_count": 21,
     "metadata": {},
     "output_type": "execute_result"
    }
   ],
   "source": [
    "param_test = {\"n_neighbors\"     :range(1,10,1),\n",
    "              \"weights\"     :['uniform', 'distance'], \n",
    "              'p': range(1,3,1),\n",
    "              } # Optimize the parameters\n",
    "gsearch = GridSearchCV(estimator = KNeighborsClassifier(), \n",
    "            param_grid = param_test, cv = 2)\n",
    "gsearch.fit(X, y)"
   ]
  },
  {
   "cell_type": "code",
   "execution_count": 22,
   "id": "19bcdea9",
   "metadata": {},
   "outputs": [
    {
     "name": "stdout",
     "output_type": "stream",
     "text": [
      "(1, 'uniform', 1, 0.5882352941176471)\n"
     ]
    }
   ],
   "source": [
    "n_neighbors     = gsearch.best_params_[\"n_neighbors\"]\n",
    "weights       = gsearch.best_params_[\"weights\"]\n",
    "p         = gsearch.best_params_[\"p\"]\n",
    "para = (n_neighbors, weights, p, gsearch.best_score_)\n",
    "print(para)"
   ]
  },
  {
   "cell_type": "code",
   "execution_count": null,
   "id": "83d74bc9",
   "metadata": {},
   "outputs": [],
   "source": []
  }
 ],
 "metadata": {
  "kernelspec": {
   "display_name": "Python 3",
   "language": "python",
   "name": "python3"
  },
  "language_info": {
   "codemirror_mode": {
    "name": "ipython",
    "version": 3
   },
   "file_extension": ".py",
   "mimetype": "text/x-python",
   "name": "python",
   "nbconvert_exporter": "python",
   "pygments_lexer": "ipython3",
   "version": "3.8.8"
  }
 },
 "nbformat": 4,
 "nbformat_minor": 5
}
